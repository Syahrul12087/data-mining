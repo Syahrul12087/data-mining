{
  "nbformat": 4,
  "nbformat_minor": 0,
  "metadata": {
    "colab": {
      "provenance": []
    },
    "kernelspec": {
      "name": "python3",
      "display_name": "Python 3"
    },
    "language_info": {
      "name": "python"
    }
  },
  "cells": [
    {
      "cell_type": "markdown",
      "source": [
        "**1.Mengimpor Perpustakaan yang di perlukan**"
      ],
      "metadata": {
        "id": "87zXDSyVyCml"
      }
    },
    {
      "cell_type": "code",
      "execution_count": 1,
      "metadata": {
        "id": "i9e7VutnyAn1"
      },
      "outputs": [],
      "source": [
        "# Load libraries\n",
        "from sklearn.ensemble import AdaBoostClassifier\n",
        "from sklearn import datasets\n",
        "# Import train_test_split function\n",
        "from sklearn.model_selection import train_test_split\n",
        "# Import scikit-learn metrics module for accuracy calculation\n",
        "from sklearn import metrics\n"
      ]
    },
    {
      "cell_type": "markdown",
      "source": [
        "**2. Mengambil Dataset**"
      ],
      "metadata": {
        "id": "sA7-lTn2y8TX"
      }
    },
    {
      "cell_type": "markdown",
      "source": [
        "Menggunakan data Iris dari sklearn"
      ],
      "metadata": {
        "id": "6YiYOqSYy-Ua"
      }
    },
    {
      "cell_type": "code",
      "source": [
        "# Load data\n",
        "iris = datasets.load_iris()\n",
        "X = iris.data\n",
        "y = iris.target\n"
      ],
      "metadata": {
        "id": "EDaBZUzBzG7W"
      },
      "execution_count": 2,
      "outputs": []
    },
    {
      "cell_type": "markdown",
      "source": [
        "**3. Memisahkan data training dan testing**"
      ],
      "metadata": {
        "id": "oYhQM1fazJWg"
      }
    },
    {
      "cell_type": "code",
      "source": [
        "# Split dataset into training set and test set\n",
        "X_train, X_test, y_train, y_test = train_test_split(X, y, test_size=0.3) # 70% training and 30% test\n"
      ],
      "metadata": {
        "id": "9rD5PpjvzSuq"
      },
      "execution_count": 3,
      "outputs": []
    },
    {
      "cell_type": "markdown",
      "source": [
        "**4. Membuat Model AdaBoost menggunakan Scikit-learn. AdaBoost menggunakan Pengklasifikasi Pohon Keputusan sebagai Pengklasifikasi default.**"
      ],
      "metadata": {
        "id": "rBWkOZ0Gzk_0"
      }
    },
    {
      "cell_type": "code",
      "source": [
        "# Create adaboost classifier object\n",
        "abc = AdaBoostClassifier(n_estimators=50, learning_rate=1)\n",
        "\n",
        "# Train Adaboost Classifier\n",
        "model = abc.fit(X_train, y_train)\n",
        "\n",
        "# Predict the response for test dataset\n",
        "y_pred = model.predict(X_test)\n"
      ],
      "metadata": {
        "id": "boYpI4ELzkk1"
      },
      "execution_count": 4,
      "outputs": []
    },
    {
      "cell_type": "markdown",
      "source": [
        "**5. Akurasi Model**"
      ],
      "metadata": {
        "id": "y8PE2Y0FztTv"
      }
    },
    {
      "cell_type": "code",
      "source": [
        "# Model Accuracy, how often is the classifier correct?\n",
        "print(\"Accuracy:\", metrics.accuracy_score(y_test, y_pred))"
      ],
      "metadata": {
        "colab": {
          "base_uri": "https://localhost:8080/"
        },
        "id": "4C1LC00wzzc8",
        "outputId": "70d6634e-c804-4f51-b292-f68a91538cd1"
      },
      "execution_count": 5,
      "outputs": [
        {
          "output_type": "stream",
          "name": "stdout",
          "text": [
            "Accuracy: 0.8888888888888888\n"
          ]
        }
      ]
    },
    {
      "cell_type": "markdown",
      "source": [
        "**Import Coding Machine Learning dari Github**"
      ],
      "metadata": {
        "id": "EyUdjKj_0DTC"
      }
    },
    {
      "cell_type": "code",
      "source": [
        "!git clone https://github.com/eriklindernoren/ML-From-Scratch\n"
      ],
      "metadata": {
        "colab": {
          "base_uri": "https://localhost:8080/"
        },
        "id": "aibqovia0EfN",
        "outputId": "6cb2f487-bc0f-4571-d080-1066a2ce9cbc"
      },
      "execution_count": 6,
      "outputs": [
        {
          "output_type": "stream",
          "name": "stdout",
          "text": [
            "Cloning into 'ML-From-Scratch'...\n",
            "remote: Enumerating objects: 2558, done.\u001b[K\n",
            "remote: Total 2558 (delta 0), reused 0 (delta 0), pack-reused 2558\u001b[K\n",
            "Receiving objects: 100% (2558/2558), 553.45 KiB | 14.19 MiB/s, done.\n",
            "Resolving deltas: 100% (1960/1960), done.\n"
          ]
        }
      ]
    },
    {
      "cell_type": "markdown",
      "source": [
        "**Mengakses Folder ML-From-Scratch**"
      ],
      "metadata": {
        "id": "7p2aXlj-0R_a"
      }
    },
    {
      "cell_type": "code",
      "source": [
        "import sys\n",
        "sys.path.append('/content/ML-From-Scratch')\n"
      ],
      "metadata": {
        "id": "NkRCMxTX0Rqc"
      },
      "execution_count": 7,
      "outputs": []
    },
    {
      "cell_type": "code",
      "source": [
        "from sklearn import datasets\n",
        "data = datasets.load_digits()\n"
      ],
      "metadata": {
        "id": "6wNH0P9X2gGt"
      },
      "execution_count": 8,
      "outputs": []
    },
    {
      "cell_type": "code",
      "source": [
        "from __future__ import division, print_function\n",
        "import numpy as np\n",
        "import math\n",
        "from sklearn import datasets\n",
        "import matplotlib.pyplot as plt\n",
        "import pandas as pd\n",
        "from sklearn.decomposition import PCA\n",
        "\n",
        "# Import helper functions\n",
        "from mlfromscratch.utils import train_test_split, accuracy_score, Plot\n",
        "\n",
        "# Decision stump used as weak classifier in this impl. of Adaboost\n",
        "class DecisionStump():\n",
        "    def __init__(self):\n",
        "        # Determines if sample shall be classified as -1 or 1 given threshold\n",
        "        self.polarity = 1\n",
        "        # The index of the feature used to make classification\n",
        "        self.feature_index = None\n",
        "        # The threshold value that the feature should be measured against\n",
        "        self.threshold = None\n",
        "        # Value indicative of the classifier's accuracy\n",
        "        self.alpha = None\n",
        "\n",
        "class Adaboost():\n",
        "    \"\"\"Boosting method that uses a number of weak classifiers in\n",
        "    ensemble to make a strong classifier. This implementation uses decision\n",
        "    stumps, which is a one level Decision Tree.\n",
        "\n",
        "    Parameters:\n",
        "    -----------\n",
        "    n_clf: int\n",
        "        The number of weak classifiers that will be used.\n",
        "    \"\"\"\n",
        "    def __init__(self, n_clf=5):\n",
        "        self.n_clf = n_clf\n",
        "\n",
        "    def fit(self, X, y):\n",
        "        n_samples, n_features = np.shape(X)\n",
        "\n",
        "# Evaluate accuracy\n",
        "accuracy = accuracy_score(y_test, y_pred)\n",
        "print(f\"Accuracy: {accuracy}\")\n",
        "\n",
        "# Reduce dimensions with PCA\n",
        "pca = PCA(n_components=2)\n",
        "X_pca = pca.fit_transform(X_test)\n",
        "\n",
        "plt.figure()\n",
        "plt.scatter(X_pca[:, 0], X_pca[:, 1], c=y_pred, cmap='viridis', edgecolor='k', s=40)\n",
        "plt.title(f'Adaboost\\nAccuracy: {accuracy * 100:.1f}%')\n",
        "plt.xlabel('Principal Component 1')\n",
        "plt.ylabel('Principal Component 2')\n",
        "plt.show()"
      ],
      "metadata": {
        "id": "GqCKWdl10xd0",
        "colab": {
          "base_uri": "https://localhost:8080/",
          "height": 510
        },
        "outputId": "84b70585-8112-49c0-b7b5-edd1680c4a31"
      },
      "execution_count": 9,
      "outputs": [
        {
          "output_type": "stream",
          "name": "stdout",
          "text": [
            "Accuracy: 0.8888888888888888\n"
          ]
        },
        {
          "output_type": "display_data",
          "data": {
            "text/plain": [
              "<Figure size 640x480 with 1 Axes>"
            ],
            "image/png": "[encoded data removed]"
          },
          "metadata": {}
        }
      ]
    }
  ]
}